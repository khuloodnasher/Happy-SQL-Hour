{
  "nbformat": 4,
  "nbformat_minor": 0,
  "metadata": {
    "colab": {
      "name": "Happy SQL Hour.ipynb",
      "provenance": [],
      "authorship_tag": "ABX9TyNTNYMFMIX56KoG4yiGVSIN",
      "include_colab_link": true
    },
    "kernelspec": {
      "name": "python3",
      "display_name": "Python 3"
    }
  },
  "cells": [
    {
      "cell_type": "markdown",
      "metadata": {
        "id": "view-in-github",
        "colab_type": "text"
      },
      "source": [
        "<a href=\"https://colab.research.google.com/github/khuloodnasher/Happy-SQL-Hour/blob/master/Happy_SQL_Hour.ipynb\" target=\"_parent\"><img src=\"https://colab.research.google.com/assets/colab-badge.svg\" alt=\"Open In Colab\"/></a>"
      ]
    },
    {
      "cell_type": "markdown",
      "metadata": {
        "id": "KOvG9i_ijt6v"
      },
      "source": [
        "### UDAcity course"
      ]
    },
    {
      "cell_type": "markdown",
      "metadata": {
        "id": "hT4sBJrvjMBX"
      },
      "source": [
        "# Questions using IN operator \n",
        "Use the accounts table to find the account name, primary_poc, and sales_rep_id for Walmart, Target, and Nordstrom.\n",
        "\n",
        "\n",
        "\n",
        "accounts Table\n",
        "\n",
        "\n",
        "id\n",
        "\n",
        "name\n",
        "\n",
        "website\n",
        "\n",
        "lat\n",
        "long\n",
        "\n",
        "primary_poc\n",
        "\n",
        "sales_rep_id\n"
      ]
    },
    {
      "cell_type": "code",
      "metadata": {
        "id": "-LUXpBqsjYbj"
      },
      "source": [
        "#select name ,primary_poc,sales_rep_id  from accounts  Where name in  ('Walmart', 'Target','Nordstrom');\n",
        "\n",
        "\n",
        "SELECT name, primary_poc, sales_rep_id\n",
        "FROM accounts\n",
        "WHERE name IN ('Walmart', 'Target', 'Nordstrom');\n"
      ],
      "execution_count": null,
      "outputs": []
    },
    {
      "cell_type": "markdown",
      "metadata": {
        "id": "3D1hbf9ojMM4"
      },
      "source": [
        "Use the web_events table to find all information regarding individuals who were contacted via the channel of organic or adwords.\n",
        "\n",
        "web_events table\n",
        "\n",
        "\n"
      ]
    },
    {
      "cell_type": "code",
      "metadata": {
        "id": "6SGIqMqWjVtm"
      },
      "source": [
        "#SELECT * from web_events Where channel in ( 'organic' , 'adwords')\n",
        "\n",
        "SELECT *\n",
        "FROM web_events\n",
        "WHERE channel IN ('organic', 'adwords');"
      ],
      "execution_count": null,
      "outputs": []
    },
    {
      "cell_type": "markdown",
      "metadata": {
        "id": "hIUEtZfioaS3"
      },
      "source": [
        "# Questions using the NOT operator\n",
        "\n",
        "We can pull all of the rows that were excluded from the queries in the \n",
        "\n",
        "previous two concepts with our new operator.\n",
        "\n",
        "\n",
        "Use the accounts table to find the account name, primary poc, and sales rep \n",
        "\n",
        "id for all stores except Walmart, Target, and Nordstrom.\n",
        "\n",
        "\n",
        "Use the web_events table to find all information regarding individuals who \n",
        "\n",
        "were contacted via any method except using organic or adwords methods.\n",
        "\n",
        "Use the accounts table to find:\n",
        "\n",
        "All the companies whose names do not start with 'C'.\n",
        "\n",
        "All companies whose names do not contain the string 'one' somewhere in the name.\n",
        "\n",
        "All companies whose names do not end with 's'.\n",
        "\n",
        "\n"
      ]
    },
    {
      "cell_type": "code",
      "metadata": {
        "id": "YvOJTx7pom6k"
      },
      "source": [
        "SELECT name, primary_poc, sales_rep_id\n",
        "FROM accounts\n",
        "WHERE name NOT IN ('Walmart', 'Target', 'Nordstrom');\n"
      ],
      "execution_count": null,
      "outputs": []
    },
    {
      "cell_type": "code",
      "metadata": {
        "id": "0rud0QlNrDv8"
      },
      "source": [
        "SELECT *\n",
        "FROM web_events\n",
        "WHERE channel NOT IN ('organic', 'adwords');"
      ],
      "execution_count": null,
      "outputs": []
    },
    {
      "cell_type": "code",
      "metadata": {
        "id": "jrebvSLlrPA1"
      },
      "source": [
        "SELECT name\n",
        "FROM accounts\n",
        "WHERE name NOT LIKE 'C%';\n"
      ],
      "execution_count": null,
      "outputs": []
    },
    {
      "cell_type": "code",
      "metadata": {
        "id": "zWCxSKiCra7i"
      },
      "source": [
        "SELECT name\n",
        "FROM accounts\n",
        "WHERE name NOT LIKE '%s';\n"
      ],
      "execution_count": null,
      "outputs": []
    },
    {
      "cell_type": "markdown",
      "metadata": {
        "id": "QyY1iA57yUcD"
      },
      "source": [
        "Questions using AND and BETWEEN operators\n",
        "\n",
        "Write a query that returns all the orders where the standard_qty is over 1000, the poster_qty is 0, and the gloss_qty is 0.\n",
        "\n",
        "Using the accounts table, find all the companies whose names do not start with 'C' and end with 's'.\n",
        "\n",
        "When you use the BETWEEN operator in SQL, do the results include the values \n",
        "\n",
        "of your endpoints, or not? Figure out the answer to this important question\n",
        "\n",
        " by writing a query that displays the order date and gloss_qty data for all \n",
        "\n",
        "\n",
        "orders where gloss_qty is between 24 and 29. Then look at your output to see \n",
        "\n",
        "if the BETWEEN operator included the begin and end values or not.\n",
        "\n",
        "\n",
        "Use the web_events table to find all information regarding individuals who \n",
        "\n",
        "were contacted via the organic or adwords channels, and started their account \n",
        "\n",
        "at any point in 2016, sorted from newest to oldest.\n",
        "\n",
        "orders Table\n",
        "id\n",
        "\n",
        "account_id\n",
        "\n",
        "occurred_at\n",
        "\n",
        "standard_qty\n",
        "\n",
        "gloss_qty\n",
        "\n",
        "poster_qty\n",
        "\n",
        "total\n",
        "\n",
        "standard_amt_usd\n",
        "\n",
        "gloss_amt_usd\n",
        "\n",
        "poster_amt_usd\n",
        "\n",
        "total_amt_usd \n"
      ]
    },
    {
      "cell_type": "code",
      "metadata": {
        "id": "8IonfpFrylj4"
      },
      "source": [
        "\n",
        "SELECT *\n",
        "FROM orders\n",
        "WHERE standard_qty > 1000 AND poster_qty = 0 AND gloss_qty = 0;\n"
      ],
      "execution_count": null,
      "outputs": []
    },
    {
      "cell_type": "markdown",
      "metadata": {
        "id": "87YWJOF-0YHK"
      },
      "source": [
        "Using the accounts table, find all the companies whose names do not start with 'C' and end with 's'.\n",
        "\n",
        "Account Table\n",
        "\n",
        "\n",
        "\n",
        "accounts\n",
        "\n",
        "id\n",
        "\n",
        "name\n",
        "\n",
        "website\n",
        "\n",
        "lat\n",
        "\n",
        "long\n",
        "\n",
        "primary_poc\n",
        "\n",
        "\n",
        "sales_rep_id"
      ]
    },
    {
      "cell_type": "code",
      "metadata": {
        "id": "QKfQRFuF0MO6"
      },
      "source": [
        "\n",
        "SELECT name\n",
        "FROM accounts\n",
        "WHERE name NOT LIKE 'C%' AND name LIKE '%s';"
      ],
      "execution_count": null,
      "outputs": []
    },
    {
      "cell_type": "markdown",
      "metadata": {
        "id": "FZrRZe9flcv4"
      },
      "source": [
        "# When you use the BETWEEN operator in SQL, do the results include the values of your endpoints, or not? Figure out the answer to this important question by writing a query that displays the order date and gloss_qty data for all orders where gloss_qty is between 24 and 29. Then look at your output to see if the BETWEEN operator included the begin and end values or not.\n",
        "\n"
      ]
    },
    {
      "cell_type": "code",
      "metadata": {
        "id": "ybkjhk8QlgQ9"
      },
      "source": [
        "Select occurred_at, gloss_qty  from orders where   gloss_qty Between 24 and 29 order by occurred_at DESC;  \n",
        "\n"
      ],
      "execution_count": null,
      "outputs": []
    },
    {
      "cell_type": "markdown",
      "metadata": {
        "id": "MQjwtdX4npdE"
      },
      "source": [
        "Use the web_events table to find all information regarding individuals who were contacted via the organic or adwords channels, and started their account at any point in 2016, sorted from newest to oldest.\n",
        "\n",
        "WEB EVENTS Table \n",
        "\n",
        "\n",
        "id\n",
        "\n",
        "account_id\n",
        "\n",
        "occurred_at\n",
        "\n",
        "\n",
        "channel - (character)\n"
      ]
    },
    {
      "cell_type": "code",
      "metadata": {
        "id": "VZIyKgZrnzkj"
      },
      "source": [
        "SELECT *\n",
        "FROM web_events\n",
        "WHERE channel IN ('organic', 'adwords') AND occurred_at BETWEEN '2016-01-01' AND '2017-01-01'\n",
        "ORDER BY occurred_at DESC;\n"
      ],
      "execution_count": null,
      "outputs": []
    },
    {
      "cell_type": "markdown",
      "metadata": {
        "id": "91V1qKOrIdmQ"
      },
      "source": [
        "Questions using the OR operator\n",
        "Find list of orders ids where either gloss_qty or poster_qty is greater than 4000. Only include the id field in the resulting table.\n"
      ]
    },
    {
      "cell_type": "code",
      "metadata": {
        "id": "bBFyKU4TIe-a"
      },
      "source": [
        "\n",
        "\n",
        "SELECT id\n",
        "FROM orders\n",
        "WHERE gloss_qty > 4000 OR poster_qty > 4000;\n"
      ],
      "execution_count": null,
      "outputs": []
    },
    {
      "cell_type": "markdown",
      "metadata": {
        "id": "1FcUheumI0fr"
      },
      "source": [
        "Write a query that returns a list of orders where the standard_qty is zero and either the gloss_qty or poster_qty is over 1000.\n"
      ]
    },
    {
      "cell_type": "code",
      "metadata": {
        "id": "TioaTVuXCzL0"
      },
      "source": [
        "SELECT *\n",
        "FROM orders\n",
        "WHERE standard_qty = 0 AND (gloss_qty > 1000 OR poster_qty > 1000);"
      ],
      "execution_count": null,
      "outputs": []
    },
    {
      "cell_type": "markdown",
      "metadata": {
        "id": "eJuOhUjxD1Zi"
      },
      "source": [
        "Find all the company names that start with a 'C' or 'W', and the primary contact contains 'ana' or 'Ana', but it doesn't contain 'eana'.\n"
      ]
    },
    {
      "cell_type": "code",
      "metadata": {
        "id": "M47SElufD2PV"
      },
      "source": [
        "SELECT *\n",
        " from accounts \n",
        " WHERE (name like 'C%' OR name like'W%')\n",
        "   AND((primary_poc like '%ana%' OR primary_poc like '%Ana%') \n",
        "   AND primary_poc NOT like '%eana%');\n",
        "\n",
        "\n",
        "SELECT *\n",
        "FROM accounts\n",
        "WHERE (name LIKE 'C%' OR name LIKE 'W%') \n",
        "           AND ((primary_poc LIKE '%ana%' OR primary_poc LIKE '%Ana%') \n",
        "           AND primary_poc NOT LIKE '%eana%');\n"
      ],
      "execution_count": null,
      "outputs": []
    },
    {
      "cell_type": "code",
      "metadata": {
        "id": "XmcN6G_btwiu"
      },
      "source": [
        "SELECT orders.*\n",
        "FROM orders\n",
        "JOIN accounts\n",
        "ON orders.account_id = accounts.id;"
      ],
      "execution_count": null,
      "outputs": []
    },
    {
      "cell_type": "code",
      "metadata": {
        "id": "VlqiLPQDU7uW"
      },
      "source": [
        "SELECT a.primary_poc, w.occurred_at, w.channel, a.name\n",
        "FROM web_events w\n",
        "JOIN accounts a\n",
        "ON w.account_id = a.id\n",
        "WHERE a.name = 'Walmart';"
      ],
      "execution_count": null,
      "outputs": []
    }
  ]
}