{
  "nbformat": 4,
  "nbformat_minor": 0,
  "metadata": {
    "colab": {
      "name": "Happy SQL Hour.ipynb",
      "provenance": [],
      "authorship_tag": "ABX9TyNXqGRpZ2+420jCGfJPEioP",
      "include_colab_link": true
    },
    "kernelspec": {
      "name": "python3",
      "display_name": "Python 3"
    }
  },
  "cells": [
    {
      "cell_type": "markdown",
      "metadata": {
        "id": "view-in-github",
        "colab_type": "text"
      },
      "source": [
        "<a href=\"https://colab.research.google.com/github/khuloodnasher/Happy-SQL-Hour/blob/master/Happy_SQL_Hour.ipynb\" target=\"_parent\"><img src=\"https://colab.research.google.com/assets/colab-badge.svg\" alt=\"Open In Colab\"/></a>"
      ]
    },
    {
      "cell_type": "markdown",
      "metadata": {
        "id": "KOvG9i_ijt6v",
        "colab_type": "text"
      },
      "source": [
        "### UDAcity course"
      ]
    },
    {
      "cell_type": "markdown",
      "metadata": {
        "id": "hT4sBJrvjMBX",
        "colab_type": "text"
      },
      "source": [
        "# Questions using IN operator \n",
        "Use the accounts table to find the account name, primary_poc, and sales_rep_id for Walmart, Target, and Nordstrom.\n",
        "\n",
        "\n",
        "\n",
        "accounts Table\n",
        "\n",
        "\n",
        "id\n",
        "\n",
        "name\n",
        "\n",
        "website\n",
        "\n",
        "lat\n",
        "long\n",
        "\n",
        "primary_poc\n",
        "\n",
        "sales_rep_id\n"
      ]
    },
    {
      "cell_type": "code",
      "metadata": {
        "id": "-LUXpBqsjYbj",
        "colab_type": "code",
        "colab": {}
      },
      "source": [
        "#select name ,primary_poc,sales_rep_id  from accounts  Where name in  ('Walmart', 'Target','Nordstrom');\n",
        "\n",
        "\n",
        "SELECT name, primary_poc, sales_rep_id\n",
        "FROM accounts\n",
        "WHERE name IN ('Walmart', 'Target', 'Nordstrom');\n"
      ],
      "execution_count": null,
      "outputs": []
    },
    {
      "cell_type": "markdown",
      "metadata": {
        "id": "3D1hbf9ojMM4",
        "colab_type": "text"
      },
      "source": [
        "Use the web_events table to find all information regarding individuals who were contacted via the channel of organic or adwords.\n",
        "\n",
        "web_events table\n",
        "\n",
        "\n"
      ]
    },
    {
      "cell_type": "code",
      "metadata": {
        "id": "6SGIqMqWjVtm",
        "colab_type": "code",
        "colab": {}
      },
      "source": [
        "#SELECT * from web_events Where channel in ( 'organic' , 'adwords')\n",
        "\n",
        "SELECT *\n",
        "FROM web_events\n",
        "WHERE channel IN ('organic', 'adwords');"
      ],
      "execution_count": null,
      "outputs": []
    },
    {
      "cell_type": "markdown",
      "metadata": {
        "id": "hIUEtZfioaS3",
        "colab_type": "text"
      },
      "source": [
        "# Questions using the NOT operator\n",
        "\n",
        "We can pull all of the rows that were excluded from the queries in the \n",
        "\n",
        "previous two concepts with our new operator.\n",
        "\n",
        "\n",
        "Use the accounts table to find the account name, primary poc, and sales rep \n",
        "\n",
        "id for all stores except Walmart, Target, and Nordstrom.\n",
        "\n",
        "\n",
        "Use the web_events table to find all information regarding individuals who \n",
        "\n",
        "were contacted via any method except using organic or adwords methods.\n",
        "\n",
        "Use the accounts table to find:\n",
        "\n",
        "All the companies whose names do not start with 'C'.\n",
        "\n",
        "All companies whose names do not contain the string 'one' somewhere in the name.\n",
        "\n",
        "All companies whose names do not end with 's'.\n",
        "\n",
        "\n"
      ]
    },
    {
      "cell_type": "code",
      "metadata": {
        "id": "YvOJTx7pom6k",
        "colab_type": "code",
        "colab": {}
      },
      "source": [
        "SELECT name, primary_poc, sales_rep_id\n",
        "FROM accounts\n",
        "WHERE name NOT IN ('Walmart', 'Target', 'Nordstrom');\n"
      ],
      "execution_count": null,
      "outputs": []
    },
    {
      "cell_type": "code",
      "metadata": {
        "id": "0rud0QlNrDv8",
        "colab_type": "code",
        "colab": {}
      },
      "source": [
        "SELECT *\n",
        "FROM web_events\n",
        "WHERE channel NOT IN ('organic', 'adwords');"
      ],
      "execution_count": null,
      "outputs": []
    },
    {
      "cell_type": "code",
      "metadata": {
        "id": "jrebvSLlrPA1",
        "colab_type": "code",
        "colab": {}
      },
      "source": [
        "SELECT name\n",
        "FROM accounts\n",
        "WHERE name NOT LIKE 'C%';\n"
      ],
      "execution_count": null,
      "outputs": []
    },
    {
      "cell_type": "code",
      "metadata": {
        "id": "zWCxSKiCra7i",
        "colab_type": "code",
        "colab": {}
      },
      "source": [
        "SELECT name\n",
        "FROM accounts\n",
        "WHERE name NOT LIKE '%s';\n"
      ],
      "execution_count": null,
      "outputs": []
    },
    {
      "cell_type": "markdown",
      "metadata": {
        "id": "QyY1iA57yUcD",
        "colab_type": "text"
      },
      "source": [
        "Questions using AND and BETWEEN operators\n",
        "\n",
        "Write a query that returns all the orders where the standard_qty is over 1000, the poster_qty is 0, and the gloss_qty is 0.\n",
        "\n",
        "Using the accounts table, find all the companies whose names do not start with 'C' and end with 's'.\n",
        "\n",
        "When you use the BETWEEN operator in SQL, do the results include the values \n",
        "\n",
        "of your endpoints, or not? Figure out the answer to this important question\n",
        "\n",
        " by writing a query that displays the order date and gloss_qty data for all \n",
        "\n",
        "\n",
        "orders where gloss_qty is between 24 and 29. Then look at your output to see \n",
        "\n",
        "if the BETWEEN operator included the begin and end values or not.\n",
        "\n",
        "\n",
        "Use the web_events table to find all information regarding individuals who \n",
        "\n",
        "were contacted via the organic or adwords channels, and started their account \n",
        "\n",
        "at any point in 2016, sorted from newest to oldest.\n",
        "\n",
        "orders Table\n",
        "id\n",
        "\n",
        "account_id\n",
        "\n",
        "occurred_at\n",
        "\n",
        "standard_qty\n",
        "\n",
        "gloss_qty\n",
        "\n",
        "poster_qty\n",
        "\n",
        "total\n",
        "\n",
        "standard_amt_usd\n",
        "\n",
        "gloss_amt_usd\n",
        "\n",
        "poster_amt_usd\n",
        "\n",
        "total_amt_usd \n"
      ]
    },
    {
      "cell_type": "code",
      "metadata": {
        "id": "8IonfpFrylj4",
        "colab_type": "code",
        "colab": {}
      },
      "source": [
        "Select * from orders Where standard_qty>1000 AND poster_qty = 0 and  gloss_qty = 0;"
      ],
      "execution_count": null,
      "outputs": []
    },
    {
      "cell_type": "markdown",
      "metadata": {
        "id": "87YWJOF-0YHK",
        "colab_type": "text"
      },
      "source": [
        "Using the accounts table, find all the companies whose names do not start with 'C' and end with 's'.\n",
        "\n",
        "Account Table\n",
        "\n",
        "\n",
        "\n",
        "accounts\n",
        "\n",
        "id\n",
        "\n",
        "name\n",
        "\n",
        "website\n",
        "\n",
        "lat\n",
        "\n",
        "long\n",
        "\n",
        "primary_poc\n",
        "\n",
        "\n",
        "sales_rep_id"
      ]
    },
    {
      "cell_type": "code",
      "metadata": {
        "id": "QKfQRFuF0MO6",
        "colab_type": "code",
        "colab": {}
      },
      "source": [
        "Select * from accounts Where name Not like\"C%\" AND \"%S\";"
      ],
      "execution_count": null,
      "outputs": []
    }
  ]
}